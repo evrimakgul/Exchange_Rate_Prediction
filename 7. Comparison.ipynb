{
 "metadata": {
  "language_info": {
   "codemirror_mode": {
    "name": "ipython",
    "version": 3
   },
   "file_extension": ".py",
   "mimetype": "text/x-python",
   "name": "python",
   "nbconvert_exporter": "python",
   "pygments_lexer": "ipython3",
   "version": "3.6.9-final"
  },
  "orig_nbformat": 2,
  "kernelspec": {
   "name": "Python 3.6.9 64-bit",
   "display_name": "Python 3.6.9 64-bit",
   "metadata": {
    "interpreter": {
     "hash": "31f2aee4e71d21fbe5cf8b01ff0e069b9275f58929596ceb00d14d90e3e16cd6"
    }
   }
  }
 },
 "nbformat": 4,
 "nbformat_minor": 2,
 "cells": [
  {
   "source": [
    "# Model Comparison and Ending Discussions"
   ],
   "cell_type": "markdown",
   "metadata": {}
  },
  {
   "source": [
    "When we compare the results we can see that the literature findings are correct. The base model for the prediction has the best metric by far. While the result of the base model is 0.00643, the closest result to that one is 0.01295 from the Univariate MLP architecture. Then comes the CNN multivariate prediction process with 0.02076, and MLP multivariate process with 0.02739 thereafter. The CNN univariate process has the worst score with 0.03028.\n",
    "\n",
    "<br/>\n",
    "\n",
    "## ARIMA \n",
    "### [Base (Econometric) Model]\n",
    "![](PLOTS/ARIMA.png)\n",
    "\n",
    "\n",
    "<br/>\n",
    "\n",
    "## MLP Univariate Model\n",
    "![](PLOTS/MLP_U.png)\n",
    "\n",
    "<br/>\n",
    "\n",
    "## CNN Univariate Model\n",
    "![](PLOTS/CNN_U.png)\n",
    "\n",
    "<br/>\n",
    "\n",
    "## MLP Multivariate Model\n",
    "![](PLOTS/MLP_M.png)\n",
    "\n",
    "<br/>\n",
    "\n",
    "## CNN Multivariate Model\n",
    "![](PLOTS/CNN_M.png)\n",
    "\n",
    "<br/>\n",
    "\n"
   ],
   "cell_type": "markdown",
   "metadata": {}
  },
  {
   "source": [
    "# THANK YOU\n"
   ],
   "cell_type": "markdown",
   "metadata": {}
  },
  {
   "source": [
    "## Jason Brownlee --> www.machinelearningmastery.com"
   ],
   "cell_type": "markdown",
   "metadata": {}
  },
  {
   "cell_type": "code",
   "execution_count": null,
   "metadata": {},
   "outputs": [],
   "source": []
  }
 ]
}