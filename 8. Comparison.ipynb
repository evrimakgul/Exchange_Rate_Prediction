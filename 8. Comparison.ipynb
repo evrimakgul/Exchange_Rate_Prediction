{
 "metadata": {
  "language_info": {
   "codemirror_mode": {
    "name": "ipython",
    "version": 3
   },
   "file_extension": ".py",
   "mimetype": "text/x-python",
   "name": "python",
   "nbconvert_exporter": "python",
   "pygments_lexer": "ipython3",
   "version": "3.6.9-final"
  },
  "orig_nbformat": 2,
  "kernelspec": {
   "name": "Python 3.6.9 64-bit",
   "display_name": "Python 3.6.9 64-bit",
   "metadata": {
    "interpreter": {
     "hash": "31f2aee4e71d21fbe5cf8b01ff0e069b9275f58929596ceb00d14d90e3e16cd6"
    }
   }
  }
 },
 "nbformat": 4,
 "nbformat_minor": 2,
 "cells": [
  {
   "source": [
    "# Model Comparison and Ending Discussions"
   ],
   "cell_type": "markdown",
   "metadata": {}
  },
  {
   "source": [
    "## ARIMA \n",
    "### [Base (Econometric) Model]\n",
    "![](ARIMA.png)\n",
    "\n",
    ".\n",
    "## MLP Univariate Model\n",
    "![](MLP_U.png)\n",
    "\n",
    ".\n",
    "## CNN Univariate Model\n",
    "![](CNN_U.png)\n",
    "\n",
    ".\n",
    "## MLP Multivariate Model\n",
    "![](MLP_M.png)\n",
    "\n",
    ".\n",
    "## CNN Multivariate Model\n",
    "![](CNN_M.png)\n",
    "\n",
    ".\n",
    "\n"
   ],
   "cell_type": "markdown",
   "metadata": {}
  },
  {
   "source": [
    "# THANK YOU\n"
   ],
   "cell_type": "markdown",
   "metadata": {}
  },
  {
   "source": [
    "## Jason Brownlee --> www.machinelearningmastery.com"
   ],
   "cell_type": "markdown",
   "metadata": {}
  },
  {
   "cell_type": "code",
   "execution_count": null,
   "metadata": {},
   "outputs": [],
   "source": []
  }
 ]
}